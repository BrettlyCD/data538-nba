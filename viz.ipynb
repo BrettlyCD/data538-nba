{
 "cells": [
  {
   "attachments": {},
   "cell_type": "markdown",
   "metadata": {},
   "source": [
    "## Introduction\n",
    "\n",
    "This data comes from FiveThirtyEight using their RAPTOR Metric. No, this isn't just for the Toronto Raptors. It's a metric they created to better reflects the style of the modern NBA and the performance of its players. It standard for Robust Algorithm (using) Player Tracking (and) On/Off Ratings. It also has WAR (Wins Above Replacement Data). That's more up my ally as a baseball fan.\n",
    "\\\n",
    "\\\n",
    "Full Info:\n",
    "\\\n",
    "https://fivethirtyeight.com/features/introducing-raptor-our-new-metric-for-the-modern-nba/\n",
    "\n",
    "## Questions\n",
    "Who is the best player since 1974 (when the data starts)?\n",
    "What is the best single season of all time (defensive, offensive, total)\n",
    "What young player is on the path to be one of the all-time greats?"
   ]
  },
  {
   "cell_type": "code",
   "execution_count": null,
   "metadata": {},
   "outputs": [],
   "source": []
  }
 ],
 "metadata": {
  "language_info": {
   "name": "python"
  },
  "orig_nbformat": 4
 },
 "nbformat": 4,
 "nbformat_minor": 2
}
